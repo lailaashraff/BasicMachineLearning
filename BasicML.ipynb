{
  "cells": [
    {
      "cell_type": "markdown",
      "metadata": {
        "id": "view-in-github",
        "colab_type": "text"
      },
      "source": [
        "<a href=\"https://colab.research.google.com/github/lailaashraff/BasicMachineLearning/blob/main/BasicML.ipynb\" target=\"_parent\"><img src=\"https://colab.research.google.com/assets/colab-badge.svg\" alt=\"Open In Colab\"/></a>"
      ]
    },
    {
      "cell_type": "markdown",
      "id": "b41a70a8",
      "metadata": {
        "id": "b41a70a8"
      },
      "source": [
        "# CORE LEARNING ALGORITHMS\n",
        "\n",
        "## 1- Linear Regression:\n",
        "\n",
        "The next example is a model predicting the survival rate of titanic passengers using certain features, via linear regression."
      ]
    },
    {
      "cell_type": "code",
      "execution_count": 1,
      "id": "4473c84a",
      "metadata": {
        "id": "4473c84a"
      },
      "outputs": [],
      "source": [
        "!pip install -q sklearn"
      ]
    },
    {
      "cell_type": "markdown",
      "id": "4e7dd401",
      "metadata": {
        "id": "4e7dd401"
      },
      "source": [
        "### Working with pandas' dataframes\n",
        "\n",
        "\n",
        "**Some notes**:\n",
        "- \".csv\": stands for comma separated values\n",
        "- We will choose \"survived\" column to be our label (value we are trying to predict)"
      ]
    },
    {
      "cell_type": "code",
      "execution_count": 2,
      "id": "9ec4de71",
      "metadata": {
        "id": "9ec4de71"
      },
      "outputs": [],
      "source": [
        "from __future__ import absolute_import, division, print_function, unicode_literals\n",
        "\n",
        "import numpy as np\n",
        "import pandas as pd\n",
        "import matplotlib.pyplot as plt\n",
        "from IPython.display import clear_output\n",
        "from six.moves import urllib\n",
        "\n",
        "import tensorflow.compat.v2.feature_column as fc\n",
        "import tensorflow as tf\n",
        "\n",
        "dftrain = pd.read_csv('https://storage.googleapis.com/tf-datasets/titanic/train.csv') # training data\n",
        "dfeval = pd.read_csv('https://storage.googleapis.com/tf-datasets/titanic/eval.csv') # testing data\n",
        "\n",
        "\n",
        "y_train = dftrain.pop('survived')\n",
        "y_eval = dfeval.pop('survived')\n",
        "\n",
        "clear_output()"
      ]
    },
    {
      "cell_type": "markdown",
      "id": "79b2523f",
      "metadata": {
        "id": "79b2523f"
      },
      "source": [
        "### Some functions dealing with dataframes:\n",
        "\n",
        "**pd.read_csv('csv_file_name'):** returns a pandas dataframe (sth like a table)\n",
        "\n",
        "**df.head():** returns first five rows from the dataframe\n",
        "\n",
        "**df.pop('column_name'):** returns and deletes column w/ name \"column_name\"\n",
        "\n",
        "**df.loc\\[i\\]:** returns row with index i\n",
        "\n",
        "**df.describe():** returns some basic info abt dataframe\n",
        "\n",
        "**df.shape():** returns table shape\n",
        "\n",
        "**df.feature.hist(bins=i):** displays histogram of column \"feature\" w/ i as the number of bins.\n",
        "\n",
        "*Note*: display some charts abt your data so you can get some sort of intuition as to what the label may point to.\n",
        "\n"
      ]
    },
    {
      "cell_type": "markdown",
      "id": "292c606c",
      "metadata": {
        "id": "292c606c"
      },
      "source": [
        "### Important Notes:\n",
        "\n",
        "- Separate data sets into training set and testing set.\n",
        "\n",
        "- **Categorical Data:** Data that is made up of categories (i.e Male, Female, Other). Dealing w/ it is through **one hot encoding**.\n",
        "\n",
        "#### One hot encoding:\n",
        "Every category is a feature and we determine which category by using 1 for the correct category for the entry and 0's otherwise.\n",
        "\n",
        "\n"
      ]
    },
    {
      "cell_type": "code",
      "execution_count": 3,
      "id": "9d7e854d",
      "metadata": {
        "colab": {
          "base_uri": "https://localhost:8080/"
        },
        "id": "9d7e854d",
        "outputId": "2896aba1-22e8-44fc-b835-9d365d2d967b"
      },
      "outputs": [
        {
          "output_type": "stream",
          "name": "stdout",
          "text": [
            "[VocabularyListCategoricalColumn(key='sex', vocabulary_list=('male', 'female'), dtype=tf.string, default_value=-1, num_oov_buckets=0), VocabularyListCategoricalColumn(key='n_siblings_spouses', vocabulary_list=(1, 0, 3, 4, 2, 5, 8), dtype=tf.int64, default_value=-1, num_oov_buckets=0), VocabularyListCategoricalColumn(key='parch', vocabulary_list=(0, 1, 2, 5, 3, 4), dtype=tf.int64, default_value=-1, num_oov_buckets=0), VocabularyListCategoricalColumn(key='class', vocabulary_list=('Third', 'First', 'Second'), dtype=tf.string, default_value=-1, num_oov_buckets=0), VocabularyListCategoricalColumn(key='deck', vocabulary_list=('unknown', 'C', 'G', 'A', 'B', 'D', 'F', 'E'), dtype=tf.string, default_value=-1, num_oov_buckets=0), VocabularyListCategoricalColumn(key='embark_town', vocabulary_list=('Southampton', 'Cherbourg', 'Queenstown', 'unknown'), dtype=tf.string, default_value=-1, num_oov_buckets=0), VocabularyListCategoricalColumn(key='alone', vocabulary_list=('n', 'y'), dtype=tf.string, default_value=-1, num_oov_buckets=0), NumericColumn(key='age', shape=(1,), default_value=None, dtype=tf.float32, normalizer_fn=None), NumericColumn(key='fare', shape=(1,), default_value=None, dtype=tf.float32, normalizer_fn=None)]\n"
          ]
        }
      ],
      "source": [
        "CATEGORICAL_COLUMNS = ['sex', 'n_siblings_spouses', 'parch', 'class', 'deck',\n",
        "                       'embark_town', 'alone']\n",
        "NUMERIC_COLUMNS = ['age', 'fare']\n",
        "\n",
        "feature_columns = []\n",
        "\n",
        "for feature_name in CATEGORICAL_COLUMNS:\n",
        "  vocabulary = dftrain[feature_name].unique()  # gets a list of all unique values from given feature column\n",
        "  feature_columns.append(tf.feature_column.categorical_column_with_vocabulary_list(feature_name, vocabulary))\n",
        "\n",
        "for feature_name in NUMERIC_COLUMNS:\n",
        "  feature_columns.append(tf.feature_column.numeric_column(feature_name, dtype=tf.float32))\n",
        "\n",
        "print(feature_columns)"
      ]
    },
    {
      "cell_type": "markdown",
      "id": "41f2ec82",
      "metadata": {
        "id": "41f2ec82"
      },
      "source": [
        "### Training process:\n",
        "\n",
        "- Data is streamed into batches, we don't add entire dataset to model at once\n",
        "- These batches can be fed to the model multiple times according to the number of epochs\n",
        "\n",
        "**Epochs:** one stream of the entire dataset, # of epochs is # of times the model will see the entire dataset.\n",
        "\n",
        "**Overfitting:** memorizing data points in training set only, not able to classify new elements.\n",
        "\n",
        "**Underfitting:** opposite of overfitting, not being able to predict.\n",
        "\n",
        "\n",
        "A tensorflow model requires the data we pass to it to be in the form of ```tf.data.Dataset``` object. So, we create an *input function* to convert a pandas dataframe to a tf Dataset.\n"
      ]
    },
    {
      "cell_type": "code",
      "execution_count": 4,
      "id": "13a181fc",
      "metadata": {
        "id": "13a181fc"
      },
      "outputs": [],
      "source": [
        "def make_input_fn(data_df, label_df, num_epochs=10, shuffle=True, batch_size=32):\n",
        "  def input_function():  # inner function, this will be returned\n",
        "    ds = tf.data.Dataset.from_tensor_slices((dict(data_df), label_df))  # create tf.data.Dataset object with data and its label\n",
        "    if shuffle:\n",
        "      ds = ds.shuffle(1000)  # randomize order of data\n",
        "    ds = ds.batch(batch_size).repeat(num_epochs)  # split dataset into batches of 32 and repeat process for number of epochs\n",
        "    return ds  # return a batch of the dataset\n",
        "  return input_function  # return a function object for use\n",
        "\n",
        "train_input_fn = make_input_fn(dftrain, y_train)  # here we will call the input_function that was returned to us to get a dataset object we can feed to the model\n",
        "eval_input_fn = make_input_fn(dfeval, y_eval, num_epochs=1, shuffle=False)\n"
      ]
    },
    {
      "cell_type": "markdown",
      "id": "ec427e2c",
      "metadata": {
        "id": "ec427e2c"
      },
      "source": [
        "Above is a standard input function copied from tensorflow value.\n",
        "\n",
        "*Notes*: in evaluation, num_epochs=1 and shuffle=False\n",
        "\n",
        "\n",
        "\n",
        "### Creating, Training, Testing and Predicting\n",
        "\n",
        "**Creating:** to create a model we need to create an *estimator*, there is one for every core learning algorithm.\n",
        "\n",
        "Since we're using linear regression: we will use an estimator of type LinearClassifier that takes the feature_columns created before.\n",
        "\n",
        "**Training & testing:** training & testing the model is done by passing the input functions created.\n",
        "\n",
        "**Predicting:** predicting is entering an input_function and getting the probability of label 0 or 1."
      ]
    },
    {
      "cell_type": "code",
      "execution_count": 5,
      "id": "b5f9a1d5",
      "metadata": {
        "id": "b5f9a1d5"
      },
      "outputs": [],
      "source": [
        "linear_est = tf.estimator.LinearClassifier(feature_columns=feature_columns)\n",
        "\n",
        "clear_output()\n",
        "# We create a linear estimtor by passing the feature columns we created earlier"
      ]
    },
    {
      "cell_type": "code",
      "execution_count": 6,
      "id": "f3792d32",
      "metadata": {
        "colab": {
          "base_uri": "https://localhost:8080/"
        },
        "id": "f3792d32",
        "outputId": "b6907edc-5561-48e3-8692-7a4f5f1cb011"
      },
      "outputs": [
        {
          "output_type": "stream",
          "name": "stdout",
          "text": [
            "0.77272725\n"
          ]
        }
      ],
      "source": [
        "linear_est.train(train_input_fn)  # train\n",
        "result = linear_est.evaluate(eval_input_fn)  # get model metrics/stats by testing on tetsing data\n",
        "\n",
        "clear_output()  # clears console output\n",
        "print(result['accuracy'])  # the result variable is simply a dict of stats about our model"
      ]
    },
    {
      "cell_type": "code",
      "execution_count": 7,
      "id": "7fa5c29f",
      "metadata": {
        "colab": {
          "base_uri": "https://localhost:8080/"
        },
        "id": "7fa5c29f",
        "outputId": "2a034b8e-8115-4b88-9c9c-b47523c6d283"
      },
      "outputs": [
        {
          "output_type": "stream",
          "name": "stdout",
          "text": [
            "INFO:tensorflow:Calling model_fn.\n"
          ]
        },
        {
          "output_type": "stream",
          "name": "stderr",
          "text": [
            "/usr/local/lib/python3.7/dist-packages/tensorflow_estimator/python/estimator/canned/linear.py:1478: UserWarning: `layer.add_variable` is deprecated and will be removed in a future version. Please use `layer.add_weight` method instead.\n",
            "  getter=tf.compat.v1.get_variable)\n"
          ]
        },
        {
          "output_type": "stream",
          "name": "stdout",
          "text": [
            "INFO:tensorflow:Done calling model_fn.\n",
            "INFO:tensorflow:Graph was finalized.\n",
            "INFO:tensorflow:Restoring parameters from /tmp/tmpj3hvkeog/model.ckpt-200\n",
            "INFO:tensorflow:Running local_init_op.\n",
            "INFO:tensorflow:Done running local_init_op.\n"
          ]
        }
      ],
      "source": [
        "result_dicts = list(linear_est.predict(eval_input_fn))\n",
        "probs = pd.Series([result['probabilities'][1] for result in result_dicts])"
      ]
    },
    {
      "cell_type": "markdown",
      "id": "12b310a1",
      "metadata": {
        "id": "12b310a1"
      },
      "source": [
        "## Molakhas - Linear Regression: \n",
        "\n",
        "- Read csv files and put them into pandas dataframes\n",
        "- Do one-hot encoding on categorical data: outputting *feature_columns*\n",
        "- Make *input function* transforming dataframe to a tf Dataset \n",
        "- Create LinearClassifier estimator using feature_columns dataframe as input\n",
        "- Train estimator: ```est.train(train_input_fn)```\n",
        "- Evaluate estimator (test it) & return result: ```est.evaluate(eval_input_fn)```\n",
        "- result\\['accuracy'\\]: shows accuracy of model\n",
        "- To predict: ```est.predict(input_fn)```, returns result, we can transform result to list\n",
        "- If we print one item of the list result: we can see percentage of survival (probability of label)\n",
        "- ```print(result[0]['probabilities'][1])``` <-- Probability that passenger survives.\n",
        "\n",
        "\n",
        "\n",
        "**Notes**: changing # of epochs changes accuracy.\n"
      ]
    },
    {
      "cell_type": "markdown",
      "id": "acdbd506",
      "metadata": {
        "id": "acdbd506"
      },
      "source": [
        "## 2- Classification\n",
        "\n",
        "Classification is used to seperate data points into classes of different labels. The next example is classifying flowers into one of three types.\n"
      ]
    },
    {
      "cell_type": "code",
      "execution_count": 8,
      "id": "de31bec7",
      "metadata": {
        "id": "de31bec7"
      },
      "outputs": [],
      "source": [
        "from __future__ import absolute_import, division, print_function, unicode_literals\n",
        "import tensorflow as tf\n",
        "import pandas as pd\n",
        "\n",
        "CSV_COLUMN_NAMES = ['SepalLength', 'SepalWidth', 'PetalLength', 'PetalWidth', 'Species']\n",
        "SPECIES = ['Setosa', 'Versicolor', 'Virginica']\n"
      ]
    },
    {
      "cell_type": "markdown",
      "id": "366adcd1",
      "metadata": {
        "id": "366adcd1"
      },
      "source": [
        "Previously, we just set constants for flower features and flower species (labels).\n",
        "\n",
        "Dataset used is \"iris\" dataset. Here, we are importing csv files through Keras and storing them into a pandas dataframe."
      ]
    },
    {
      "cell_type": "code",
      "execution_count": 9,
      "id": "b5e2a5fd",
      "metadata": {
        "colab": {
          "base_uri": "https://localhost:8080/"
        },
        "id": "b5e2a5fd",
        "outputId": "8fea7f65-ebf6-4f8a-ca02-5e4ba159f096"
      },
      "outputs": [
        {
          "output_type": "stream",
          "name": "stdout",
          "text": [
            "Downloading data from https://storage.googleapis.com/download.tensorflow.org/data/iris_training.csv\n",
            "16384/2194 [================================================================================================================================================================================================================================] - 0s 0us/step\n",
            "Downloading data from https://storage.googleapis.com/download.tensorflow.org/data/iris_test.csv\n",
            "16384/573 [=========================================================================================================================================================================================================================================================================================================================================================================================================================================================================================================================================================================================================================================================================================================================================================================================================================================================================================] - 0s 0us/step\n"
          ]
        }
      ],
      "source": [
        "train_path = tf.keras.utils.get_file(\n",
        "    \"iris_training.csv\", \"https://storage.googleapis.com/download.tensorflow.org/data/iris_training.csv\")\n",
        "test_path = tf.keras.utils.get_file(\n",
        "    \"iris_test.csv\", \"https://storage.googleapis.com/download.tensorflow.org/data/iris_test.csv\")\n",
        "\n",
        "train = pd.read_csv(train_path, names=CSV_COLUMN_NAMES, header=0)\n",
        "test = pd.read_csv(test_path, names=CSV_COLUMN_NAMES, header=0)\n"
      ]
    },
    {
      "cell_type": "code",
      "execution_count": 10,
      "id": "0db89d3a",
      "metadata": {
        "colab": {
          "base_uri": "https://localhost:8080/",
          "height": 221
        },
        "id": "0db89d3a",
        "outputId": "25758486-a09a-4c93-b207-961fd3208c7a"
      },
      "outputs": [
        {
          "output_type": "execute_result",
          "data": {
            "text/plain": [
              "   SepalLength  SepalWidth  PetalLength  PetalWidth  Species\n",
              "0          6.4         2.8          5.6         2.2        2\n",
              "1          5.0         2.3          3.3         1.0        1\n",
              "2          4.9         2.5          4.5         1.7        2\n",
              "3          4.9         3.1          1.5         0.1        0\n",
              "4          5.7         3.8          1.7         0.3        0"
            ],
            "text/html": [
              "\n",
              "  <div id=\"df-41ba9278-ae7f-4fb4-8c60-e13c550917fc\">\n",
              "    <div class=\"colab-df-container\">\n",
              "      <div>\n",
              "<style scoped>\n",
              "    .dataframe tbody tr th:only-of-type {\n",
              "        vertical-align: middle;\n",
              "    }\n",
              "\n",
              "    .dataframe tbody tr th {\n",
              "        vertical-align: top;\n",
              "    }\n",
              "\n",
              "    .dataframe thead th {\n",
              "        text-align: right;\n",
              "    }\n",
              "</style>\n",
              "<table border=\"1\" class=\"dataframe\">\n",
              "  <thead>\n",
              "    <tr style=\"text-align: right;\">\n",
              "      <th></th>\n",
              "      <th>SepalLength</th>\n",
              "      <th>SepalWidth</th>\n",
              "      <th>PetalLength</th>\n",
              "      <th>PetalWidth</th>\n",
              "      <th>Species</th>\n",
              "    </tr>\n",
              "  </thead>\n",
              "  <tbody>\n",
              "    <tr>\n",
              "      <th>0</th>\n",
              "      <td>6.4</td>\n",
              "      <td>2.8</td>\n",
              "      <td>5.6</td>\n",
              "      <td>2.2</td>\n",
              "      <td>2</td>\n",
              "    </tr>\n",
              "    <tr>\n",
              "      <th>1</th>\n",
              "      <td>5.0</td>\n",
              "      <td>2.3</td>\n",
              "      <td>3.3</td>\n",
              "      <td>1.0</td>\n",
              "      <td>1</td>\n",
              "    </tr>\n",
              "    <tr>\n",
              "      <th>2</th>\n",
              "      <td>4.9</td>\n",
              "      <td>2.5</td>\n",
              "      <td>4.5</td>\n",
              "      <td>1.7</td>\n",
              "      <td>2</td>\n",
              "    </tr>\n",
              "    <tr>\n",
              "      <th>3</th>\n",
              "      <td>4.9</td>\n",
              "      <td>3.1</td>\n",
              "      <td>1.5</td>\n",
              "      <td>0.1</td>\n",
              "      <td>0</td>\n",
              "    </tr>\n",
              "    <tr>\n",
              "      <th>4</th>\n",
              "      <td>5.7</td>\n",
              "      <td>3.8</td>\n",
              "      <td>1.7</td>\n",
              "      <td>0.3</td>\n",
              "      <td>0</td>\n",
              "    </tr>\n",
              "  </tbody>\n",
              "</table>\n",
              "</div>\n",
              "      <button class=\"colab-df-convert\" onclick=\"convertToInteractive('df-41ba9278-ae7f-4fb4-8c60-e13c550917fc')\"\n",
              "              title=\"Convert this dataframe to an interactive table.\"\n",
              "              style=\"display:none;\">\n",
              "        \n",
              "  <svg xmlns=\"http://www.w3.org/2000/svg\" height=\"24px\"viewBox=\"0 0 24 24\"\n",
              "       width=\"24px\">\n",
              "    <path d=\"M0 0h24v24H0V0z\" fill=\"none\"/>\n",
              "    <path d=\"M18.56 5.44l.94 2.06.94-2.06 2.06-.94-2.06-.94-.94-2.06-.94 2.06-2.06.94zm-11 1L8.5 8.5l.94-2.06 2.06-.94-2.06-.94L8.5 2.5l-.94 2.06-2.06.94zm10 10l.94 2.06.94-2.06 2.06-.94-2.06-.94-.94-2.06-.94 2.06-2.06.94z\"/><path d=\"M17.41 7.96l-1.37-1.37c-.4-.4-.92-.59-1.43-.59-.52 0-1.04.2-1.43.59L10.3 9.45l-7.72 7.72c-.78.78-.78 2.05 0 2.83L4 21.41c.39.39.9.59 1.41.59.51 0 1.02-.2 1.41-.59l7.78-7.78 2.81-2.81c.8-.78.8-2.07 0-2.86zM5.41 20L4 18.59l7.72-7.72 1.47 1.35L5.41 20z\"/>\n",
              "  </svg>\n",
              "      </button>\n",
              "      \n",
              "  <style>\n",
              "    .colab-df-container {\n",
              "      display:flex;\n",
              "      flex-wrap:wrap;\n",
              "      gap: 12px;\n",
              "    }\n",
              "\n",
              "    .colab-df-convert {\n",
              "      background-color: #E8F0FE;\n",
              "      border: none;\n",
              "      border-radius: 50%;\n",
              "      cursor: pointer;\n",
              "      display: none;\n",
              "      fill: #1967D2;\n",
              "      height: 32px;\n",
              "      padding: 0 0 0 0;\n",
              "      width: 32px;\n",
              "    }\n",
              "\n",
              "    .colab-df-convert:hover {\n",
              "      background-color: #E2EBFA;\n",
              "      box-shadow: 0px 1px 2px rgba(60, 64, 67, 0.3), 0px 1px 3px 1px rgba(60, 64, 67, 0.15);\n",
              "      fill: #174EA6;\n",
              "    }\n",
              "\n",
              "    [theme=dark] .colab-df-convert {\n",
              "      background-color: #3B4455;\n",
              "      fill: #D2E3FC;\n",
              "    }\n",
              "\n",
              "    [theme=dark] .colab-df-convert:hover {\n",
              "      background-color: #434B5C;\n",
              "      box-shadow: 0px 1px 3px 1px rgba(0, 0, 0, 0.15);\n",
              "      filter: drop-shadow(0px 1px 2px rgba(0, 0, 0, 0.3));\n",
              "      fill: #FFFFFF;\n",
              "    }\n",
              "  </style>\n",
              "\n",
              "      <script>\n",
              "        const buttonEl =\n",
              "          document.querySelector('#df-41ba9278-ae7f-4fb4-8c60-e13c550917fc button.colab-df-convert');\n",
              "        buttonEl.style.display =\n",
              "          google.colab.kernel.accessAllowed ? 'block' : 'none';\n",
              "\n",
              "        async function convertToInteractive(key) {\n",
              "          const element = document.querySelector('#df-41ba9278-ae7f-4fb4-8c60-e13c550917fc');\n",
              "          const dataTable =\n",
              "            await google.colab.kernel.invokeFunction('convertToInteractive',\n",
              "                                                     [key], {});\n",
              "          if (!dataTable) return;\n",
              "\n",
              "          const docLinkHtml = 'Like what you see? Visit the ' +\n",
              "            '<a target=\"_blank\" href=https://colab.research.google.com/notebooks/data_table.ipynb>data table notebook</a>'\n",
              "            + ' to learn more about interactive tables.';\n",
              "          element.innerHTML = '';\n",
              "          dataTable['output_type'] = 'display_data';\n",
              "          await google.colab.output.renderOutput(dataTable, element);\n",
              "          const docLink = document.createElement('div');\n",
              "          docLink.innerHTML = docLinkHtml;\n",
              "          element.appendChild(docLink);\n",
              "        }\n",
              "      </script>\n",
              "    </div>\n",
              "  </div>\n",
              "  "
            ]
          },
          "metadata": {},
          "execution_count": 10
        }
      ],
      "source": [
        "train.head()"
      ]
    },
    {
      "cell_type": "code",
      "execution_count": 11,
      "id": "5fdaa981",
      "metadata": {
        "colab": {
          "base_uri": "https://localhost:8080/"
        },
        "id": "5fdaa981",
        "outputId": "939c5bdb-f056-48f0-bcc5-4bfd1ee60486"
      },
      "outputs": [
        {
          "output_type": "execute_result",
          "data": {
            "text/plain": [
              "(120, 5)"
            ]
          },
          "metadata": {},
          "execution_count": 11
        }
      ],
      "source": [
        "train.shape"
      ]
    },
    {
      "cell_type": "markdown",
      "id": "8dd79f0e",
      "metadata": {
        "id": "8dd79f0e"
      },
      "source": [
        "Here, the label is the \"species\" column. Thus, we have 120 data entry.\n",
        "\n",
        "Then, we should pop the species column and use it as a label.\n",
        "\n",
        "Next, after getting our data & labels, we make an input function (slightly different than before). This input function doesn't have any epochs. But it does the same thing as before: convert a pandas dataframe into a tf.data.Dataset."
      ]
    },
    {
      "cell_type": "code",
      "execution_count": 12,
      "id": "040a9522",
      "metadata": {
        "colab": {
          "base_uri": "https://localhost:8080/",
          "height": 221
        },
        "id": "040a9522",
        "outputId": "eba902d3-acf9-49fd-ed2d-bf1e22960a4a"
      },
      "outputs": [
        {
          "output_type": "execute_result",
          "data": {
            "text/plain": [
              "   SepalLength  SepalWidth  PetalLength  PetalWidth\n",
              "0          6.4         2.8          5.6         2.2\n",
              "1          5.0         2.3          3.3         1.0\n",
              "2          4.9         2.5          4.5         1.7\n",
              "3          4.9         3.1          1.5         0.1\n",
              "4          5.7         3.8          1.7         0.3"
            ],
            "text/html": [
              "\n",
              "  <div id=\"df-920023b0-1013-4371-aee2-a5b714e0fe53\">\n",
              "    <div class=\"colab-df-container\">\n",
              "      <div>\n",
              "<style scoped>\n",
              "    .dataframe tbody tr th:only-of-type {\n",
              "        vertical-align: middle;\n",
              "    }\n",
              "\n",
              "    .dataframe tbody tr th {\n",
              "        vertical-align: top;\n",
              "    }\n",
              "\n",
              "    .dataframe thead th {\n",
              "        text-align: right;\n",
              "    }\n",
              "</style>\n",
              "<table border=\"1\" class=\"dataframe\">\n",
              "  <thead>\n",
              "    <tr style=\"text-align: right;\">\n",
              "      <th></th>\n",
              "      <th>SepalLength</th>\n",
              "      <th>SepalWidth</th>\n",
              "      <th>PetalLength</th>\n",
              "      <th>PetalWidth</th>\n",
              "    </tr>\n",
              "  </thead>\n",
              "  <tbody>\n",
              "    <tr>\n",
              "      <th>0</th>\n",
              "      <td>6.4</td>\n",
              "      <td>2.8</td>\n",
              "      <td>5.6</td>\n",
              "      <td>2.2</td>\n",
              "    </tr>\n",
              "    <tr>\n",
              "      <th>1</th>\n",
              "      <td>5.0</td>\n",
              "      <td>2.3</td>\n",
              "      <td>3.3</td>\n",
              "      <td>1.0</td>\n",
              "    </tr>\n",
              "    <tr>\n",
              "      <th>2</th>\n",
              "      <td>4.9</td>\n",
              "      <td>2.5</td>\n",
              "      <td>4.5</td>\n",
              "      <td>1.7</td>\n",
              "    </tr>\n",
              "    <tr>\n",
              "      <th>3</th>\n",
              "      <td>4.9</td>\n",
              "      <td>3.1</td>\n",
              "      <td>1.5</td>\n",
              "      <td>0.1</td>\n",
              "    </tr>\n",
              "    <tr>\n",
              "      <th>4</th>\n",
              "      <td>5.7</td>\n",
              "      <td>3.8</td>\n",
              "      <td>1.7</td>\n",
              "      <td>0.3</td>\n",
              "    </tr>\n",
              "  </tbody>\n",
              "</table>\n",
              "</div>\n",
              "      <button class=\"colab-df-convert\" onclick=\"convertToInteractive('df-920023b0-1013-4371-aee2-a5b714e0fe53')\"\n",
              "              title=\"Convert this dataframe to an interactive table.\"\n",
              "              style=\"display:none;\">\n",
              "        \n",
              "  <svg xmlns=\"http://www.w3.org/2000/svg\" height=\"24px\"viewBox=\"0 0 24 24\"\n",
              "       width=\"24px\">\n",
              "    <path d=\"M0 0h24v24H0V0z\" fill=\"none\"/>\n",
              "    <path d=\"M18.56 5.44l.94 2.06.94-2.06 2.06-.94-2.06-.94-.94-2.06-.94 2.06-2.06.94zm-11 1L8.5 8.5l.94-2.06 2.06-.94-2.06-.94L8.5 2.5l-.94 2.06-2.06.94zm10 10l.94 2.06.94-2.06 2.06-.94-2.06-.94-.94-2.06-.94 2.06-2.06.94z\"/><path d=\"M17.41 7.96l-1.37-1.37c-.4-.4-.92-.59-1.43-.59-.52 0-1.04.2-1.43.59L10.3 9.45l-7.72 7.72c-.78.78-.78 2.05 0 2.83L4 21.41c.39.39.9.59 1.41.59.51 0 1.02-.2 1.41-.59l7.78-7.78 2.81-2.81c.8-.78.8-2.07 0-2.86zM5.41 20L4 18.59l7.72-7.72 1.47 1.35L5.41 20z\"/>\n",
              "  </svg>\n",
              "      </button>\n",
              "      \n",
              "  <style>\n",
              "    .colab-df-container {\n",
              "      display:flex;\n",
              "      flex-wrap:wrap;\n",
              "      gap: 12px;\n",
              "    }\n",
              "\n",
              "    .colab-df-convert {\n",
              "      background-color: #E8F0FE;\n",
              "      border: none;\n",
              "      border-radius: 50%;\n",
              "      cursor: pointer;\n",
              "      display: none;\n",
              "      fill: #1967D2;\n",
              "      height: 32px;\n",
              "      padding: 0 0 0 0;\n",
              "      width: 32px;\n",
              "    }\n",
              "\n",
              "    .colab-df-convert:hover {\n",
              "      background-color: #E2EBFA;\n",
              "      box-shadow: 0px 1px 2px rgba(60, 64, 67, 0.3), 0px 1px 3px 1px rgba(60, 64, 67, 0.15);\n",
              "      fill: #174EA6;\n",
              "    }\n",
              "\n",
              "    [theme=dark] .colab-df-convert {\n",
              "      background-color: #3B4455;\n",
              "      fill: #D2E3FC;\n",
              "    }\n",
              "\n",
              "    [theme=dark] .colab-df-convert:hover {\n",
              "      background-color: #434B5C;\n",
              "      box-shadow: 0px 1px 3px 1px rgba(0, 0, 0, 0.15);\n",
              "      filter: drop-shadow(0px 1px 2px rgba(0, 0, 0, 0.3));\n",
              "      fill: #FFFFFF;\n",
              "    }\n",
              "  </style>\n",
              "\n",
              "      <script>\n",
              "        const buttonEl =\n",
              "          document.querySelector('#df-920023b0-1013-4371-aee2-a5b714e0fe53 button.colab-df-convert');\n",
              "        buttonEl.style.display =\n",
              "          google.colab.kernel.accessAllowed ? 'block' : 'none';\n",
              "\n",
              "        async function convertToInteractive(key) {\n",
              "          const element = document.querySelector('#df-920023b0-1013-4371-aee2-a5b714e0fe53');\n",
              "          const dataTable =\n",
              "            await google.colab.kernel.invokeFunction('convertToInteractive',\n",
              "                                                     [key], {});\n",
              "          if (!dataTable) return;\n",
              "\n",
              "          const docLinkHtml = 'Like what you see? Visit the ' +\n",
              "            '<a target=\"_blank\" href=https://colab.research.google.com/notebooks/data_table.ipynb>data table notebook</a>'\n",
              "            + ' to learn more about interactive tables.';\n",
              "          element.innerHTML = '';\n",
              "          dataTable['output_type'] = 'display_data';\n",
              "          await google.colab.output.renderOutput(dataTable, element);\n",
              "          const docLink = document.createElement('div');\n",
              "          docLink.innerHTML = docLinkHtml;\n",
              "          element.appendChild(docLink);\n",
              "        }\n",
              "      </script>\n",
              "    </div>\n",
              "  </div>\n",
              "  "
            ]
          },
          "metadata": {},
          "execution_count": 12
        }
      ],
      "source": [
        "train_y = train.pop('Species')\n",
        "test_y = test.pop('Species')\n",
        "train.head() # the species column is now gone"
      ]
    },
    {
      "cell_type": "code",
      "execution_count": 13,
      "id": "5a515616",
      "metadata": {
        "id": "5a515616"
      },
      "outputs": [],
      "source": [
        "def input_fn(features, labels, training=True, batch_size=256):\n",
        "    # Convert the inputs to a Dataset.\n",
        "    dataset = tf.data.Dataset.from_tensor_slices((dict(features), labels))\n",
        "\n",
        "    # Shuffle and repeat if you are in training mode\n",
        "    # Another way of saying: shuffle=True\n",
        "    if training:\n",
        "        dataset = dataset.shuffle(1000).repeat()\n",
        "    \n",
        "    return dataset.batch(batch_size)"
      ]
    },
    {
      "cell_type": "code",
      "execution_count": 14,
      "id": "6c9b7447",
      "metadata": {
        "colab": {
          "base_uri": "https://localhost:8080/"
        },
        "id": "6c9b7447",
        "outputId": "00b5b1ae-34cd-412b-b57e-6485a2b29021"
      },
      "outputs": [
        {
          "output_type": "stream",
          "name": "stdout",
          "text": [
            "[NumericColumn(key='SepalLength', shape=(1,), default_value=None, dtype=tf.float32, normalizer_fn=None), NumericColumn(key='SepalWidth', shape=(1,), default_value=None, dtype=tf.float32, normalizer_fn=None), NumericColumn(key='PetalLength', shape=(1,), default_value=None, dtype=tf.float32, normalizer_fn=None), NumericColumn(key='PetalWidth', shape=(1,), default_value=None, dtype=tf.float32, normalizer_fn=None)]\n"
          ]
        }
      ],
      "source": [
        "my_feature_columns = []\n",
        "for key in train.keys():\n",
        "    my_feature_columns.append(tf.feature_column.numeric_column(key=key))\n",
        "print(my_feature_columns)"
      ]
    },
    {
      "cell_type": "markdown",
      "id": "acb045e3",
      "metadata": {
        "id": "acb045e3"
      },
      "source": [
        "We don't need to do the vocabulary thing because everything is one hot encoded (no categorical data, all numeric).\n",
        "\n",
        "**train.keys():** is the same as feature_name, each key is a feature column."
      ]
    },
    {
      "cell_type": "markdown",
      "id": "136f6ceb",
      "metadata": {
        "id": "136f6ceb"
      },
      "source": [
        "### Estimator\n",
        "\n",
        "For classification tasks there are variety of different estimators/models that we can pick from:\n",
        "\n",
        "- DNNClassifier (Deep Neural Network) - *better*\n",
        "- LinearClassifier\n",
        "\n",
        "Why is DNNClassifier better? Because we may not be able to find a linear correspondence in our data. "
      ]
    },
    {
      "cell_type": "code",
      "execution_count": 15,
      "id": "5f596d6d",
      "metadata": {
        "id": "5f596d6d"
      },
      "outputs": [],
      "source": [
        "# Build a DNN with 2 hidden layers with 30 and 10 hidden nodes each (arbitrary #).\n",
        "classifier = tf.estimator.DNNClassifier(\n",
        "    feature_columns=my_feature_columns,\n",
        "    hidden_units=[30, 10],\n",
        "    n_classes=3)\n",
        "\n",
        "clear_output()"
      ]
    },
    {
      "cell_type": "markdown",
      "id": "7d5afcf8",
      "metadata": {
        "id": "7d5afcf8"
      },
      "source": [
        "### DNN Classifier Use:\n",
        "\n",
        "DNN Classifier takes 3 inputs: feature_columns, a list of hidden units and number of classes to classify data into.\n",
        "\n",
        "**Hidden units list:** number of elements is number of hidden layers and each element's value is the number of nodes in that layer."
      ]
    },
    {
      "cell_type": "markdown",
      "id": "449565cf",
      "metadata": {
        "id": "449565cf"
      },
      "source": [
        "### Training\n",
        "\n",
        "- To avoid creating an inner function (like in linear regression) we use lambda:\n",
        "\n",
        "```variable = lambda *arguments* : *expression*```\n",
        "\n",
        "- The steps operator is how many times the classifier to run for. Similar to epochs, but instead of running through the data set a # of times, classifier stops after looking at steps number of \"things\".\n"
      ]
    },
    {
      "cell_type": "code",
      "execution_count": 16,
      "id": "2fc98157",
      "metadata": {
        "colab": {
          "base_uri": "https://localhost:8080/"
        },
        "id": "2fc98157",
        "outputId": "d4744247-8847-475d-9b38-8bf569e65776"
      },
      "outputs": [
        {
          "output_type": "execute_result",
          "data": {
            "text/plain": [
              "15"
            ]
          },
          "metadata": {},
          "execution_count": 16
        }
      ],
      "source": [
        "x = lambda a: a+10\n",
        "x(5)"
      ]
    },
    {
      "cell_type": "code",
      "execution_count": 17,
      "id": "f8e0bf29",
      "metadata": {
        "id": "f8e0bf29"
      },
      "outputs": [],
      "source": [
        "# We include a lambda to avoid creating an inner function previously\n",
        "classifier.train(\n",
        "    input_fn=lambda: input_fn(train, train_y, training=True),\n",
        "    steps=5000)\n",
        "\n",
        "clear_output()"
      ]
    },
    {
      "cell_type": "markdown",
      "id": "a3ca7f6e",
      "metadata": {
        "id": "a3ca7f6e"
      },
      "source": [
        "### Evaluating model (Testing)"
      ]
    },
    {
      "cell_type": "code",
      "execution_count": 18,
      "id": "bf299eae",
      "metadata": {
        "colab": {
          "base_uri": "https://localhost:8080/"
        },
        "id": "bf299eae",
        "outputId": "f45c14a4-1107-4beb-9362-8aa7afed8775"
      },
      "outputs": [
        {
          "output_type": "stream",
          "name": "stdout",
          "text": [
            "\n",
            "Test set accuracy: 0.533\n",
            "\n"
          ]
        }
      ],
      "source": [
        "eval_result = classifier.evaluate(\n",
        "    input_fn=lambda: input_fn(test, test_y, training=False))\n",
        "\n",
        "clear_output()\n",
        "print('\\nTest set accuracy: {accuracy:0.3f}\\n'.format(**eval_result))"
      ]
    },
    {
      "cell_type": "markdown",
      "id": "c2b04523",
      "metadata": {
        "id": "c2b04523"
      },
      "source": [
        "### Predicting"
      ]
    },
    {
      "cell_type": "markdown",
      "id": "e0e858a4",
      "metadata": {
        "id": "e0e858a4"
      },
      "source": [
        "**class_ids:** class_id is label index of found (classified) entry in array of constants\n",
        "\n",
        "**probabilities**: returns 3 probabilities for each class.\n",
        "\n",
        "**pred_dict\\['probabilities'\\]\\['class_ids'\\]:** prints out class name with highest probability of the 3."
      ]
    },
    {
      "cell_type": "code",
      "execution_count": 19,
      "id": "de1f5208",
      "metadata": {
        "scrolled": false,
        "colab": {
          "base_uri": "https://localhost:8080/"
        },
        "id": "de1f5208",
        "outputId": "37e8d8f5-be7d-4b1b-a9a1-48c45be44fe6"
      },
      "outputs": [
        {
          "output_type": "stream",
          "name": "stdout",
          "text": [
            "Please type numeric values as prompted.\n",
            "SepalLength: 4.8\n",
            "SepalWidth: 1.7\n",
            "PetalLength: 5.6\n",
            "PetalWidth: 7\n",
            "PetalWidth: 5.4\n",
            "INFO:tensorflow:Calling model_fn.\n",
            "INFO:tensorflow:Done calling model_fn.\n",
            "INFO:tensorflow:Graph was finalized.\n",
            "INFO:tensorflow:Restoring parameters from /tmp/tmpf46i0eq5/model.ckpt-5000\n",
            "INFO:tensorflow:Running local_init_op.\n",
            "INFO:tensorflow:Done running local_init_op.\n",
            "Prediction is \"Virginica\" (87.4%)\n"
          ]
        }
      ],
      "source": [
        "def input_fn(features, batch_size=256):\n",
        "    # Convert the inputs to a Dataset without labels.\n",
        "    return tf.data.Dataset.from_tensor_slices(dict(features)).batch(batch_size)\n",
        "\n",
        "features = ['SepalLength', 'SepalWidth', 'PetalLength', 'PetalWidth']\n",
        "predict = {}\n",
        "\n",
        "print(\"Please type numeric values as prompted.\")\n",
        "for feature in features:\n",
        "  valid = True\n",
        "  while valid: \n",
        "    val = input(feature + \": \")\n",
        "    if not val.isdigit(): valid = False\n",
        "\n",
        "  predict[feature] = [float(val)]\n",
        "\n",
        "predictions = classifier.predict(input_fn=lambda: input_fn(predict))\n",
        "for pred_dict in predictions:\n",
        "    class_id = pred_dict['class_ids'][0]\n",
        "    probability = pred_dict['probabilities'][class_id]\n",
        "\n",
        "    print('Prediction is \"{}\" ({:.1f}%)'.format(\n",
        "        SPECIES[class_id], 100 * probability))"
      ]
    },
    {
      "cell_type": "markdown",
      "id": "a6a0d2bb",
      "metadata": {
        "id": "a6a0d2bb"
      },
      "source": [
        "## Molakhas Classification:\n",
        "\n",
        "- Load data into pandas dataframe\n",
        "- Create feature_columns for numeric keys\n",
        "- Specify input function: steps, shuffle, ...etc.\n",
        "- Create DNNClassifier estimator w/ inputs: feature_columns and input fn\n",
        "- classifier.train\n",
        "- classifier.evaluate\n",
        "- If you want to predict unknown values: classifier.predict **but** w/ different input function w/ no labels"
      ]
    },
    {
      "cell_type": "markdown",
      "id": "18c88f5e",
      "metadata": {
        "id": "18c88f5e"
      },
      "source": [
        "## 3- Clustering: Unsupervised Learning\n",
        "\n",
        "No labels, no output, just input and find n clusters.\n",
        "\n",
        "**Centroid**: where different clusters currently exist\n",
        "\n",
        "\n",
        "### K-Means Algorithm:\n",
        "\n",
        "1. Choose K points to place K centroids.\n",
        "2. Each point is assigned to the closest centroid by distance.\n",
        "3. Move centroids to center of mass of points that are assigned to it.\n",
        "4. Repeat assignment step.\n",
        "5. Repeat last two steps until none of the points are moving anymore (until centroids are directly in the middle of clusters of data).\n",
        "\n",
        "To predict:\n",
        "1. Plot that data point\n",
        "2. Find distance to all clusters.\n",
        "3. Output is label of closest cluster.\n",
        "\n",
        "Note: You need to define variable K (number of clusters).\n"
      ]
    },
    {
      "cell_type": "markdown",
      "id": "2b7c9bb5",
      "metadata": {
        "id": "2b7c9bb5"
      },
      "source": [
        "## 4- Hidden Markov Models: Unsupervised Learning\n",
        "\n",
        "We deal w/ probability distributions. The example used is weather forecasting given the probabilities of certain events occuring.\n",
        "\n",
        "We have a bunch of states (i.e hot day, cold day).\n",
        "\n",
        "In each state, we have an observation. "
      ]
    },
    {
      "cell_type": "markdown",
      "id": "54113ed1",
      "metadata": {
        "id": "54113ed1"
      },
      "source": [
        "# Data\n",
        "Let's start by discussing the type of data we use when we work with a hidden markov model. \n",
        "\n",
        "In the previous sections we worked with large datasets of 100's of different entries. For a markov model we are only interested in probability distributions that have to do with states. \n",
        "\n",
        "We can find these probabilities from large datasets or may already have these values. We'll run through an example in a second that should clear some things up, but let's discuss the components of a markov model.\n",
        "\n",
        "**States:** In each markov model we have a finite set of states. These states could be something like \"warm\" and \"cold\" or \"high\" and \"low\" or even \"red\", \"green\" and \"blue\". These states are \"hidden\" within the model, which means we do not direcly observe them.\n",
        "\n",
        "**Observations:** Each state has a particular outcome or observation associated with it based on a probability distribution. An example of this is the following: *On a hot day Tim has a 80% chance of being happy and a 20% chance of being sad.*\n",
        "\n",
        "**Transitions:** Each state will have a probability defining the likelyhood of transitioning to a different state. An example is the following: *a cold day has a 30% chance of being followed by a hot day and a 70% chance of being follwed by another cold day.*\n",
        "\n",
        "To create a hidden markov model we need.\n",
        "- States\n",
        "- Observation Distribution\n",
        "- Transition Distribution\n",
        "\n",
        "For our purpose we will assume we already have this information available as we attempt to predict the weather on a given day."
      ]
    },
    {
      "cell_type": "markdown",
      "id": "3a877520",
      "metadata": {
        "id": "3a877520"
      },
      "source": [
        "# Imports And Setups"
      ]
    },
    {
      "cell_type": "code",
      "execution_count": 8,
      "id": "718b1931",
      "metadata": {
        "colab": {
          "base_uri": "https://localhost:8080/"
        },
        "id": "718b1931",
        "outputId": "83300d66-b48a-4e5b-a9cc-bf419f286cf5"
      },
      "outputs": [
        {
          "output_type": "stream",
          "name": "stdout",
          "text": [
            "`%tensorflow_version` only switches the major version: 1.x or 2.x.\n",
            "You set: `2.x  # this line is not required unless you are in a notebook`. This will be interpreted as: `2.x`.\n",
            "\n",
            "\n",
            "TensorFlow is already loaded. Please restart the runtime to change versions.\n"
          ]
        }
      ],
      "source": [
        "%tensorflow_version 2.x  # this line is not required unless you are in a notebook"
      ]
    },
    {
      "cell_type": "markdown",
      "id": "dcd28dc0",
      "metadata": {
        "id": "dcd28dc0"
      },
      "source": [
        "Due to a version mismatch with tensorflow v2 and tensorflow_probability we need to install the most recent version of tensorflow_probability (see below)."
      ]
    },
    {
      "cell_type": "code",
      "execution_count": 3,
      "id": "cb099f35",
      "metadata": {
        "colab": {
          "base_uri": "https://localhost:8080/",
          "height": 592
        },
        "id": "cb099f35",
        "outputId": "b5839373-a24f-464d-e329-805eb443492c"
      },
      "outputs": [
        {
          "output_type": "stream",
          "name": "stdout",
          "text": [
            "Collecting tensorflow_probability==0.13.rc0\n",
            "  Downloading tensorflow_probability-0.13.0rc0-py2.py3-none-any.whl (5.4 MB)\n",
            "\u001b[K     |████████████████████████████████| 5.4 MB 3.9 MB/s \n",
            "\u001b[?25hRequirement already satisfied: six>=1.10.0 in /usr/local/lib/python3.7/dist-packages (from tensorflow_probability==0.13.rc0) (1.15.0)\n",
            "Collecting cloudpickle>=1.3\n",
            "  Downloading cloudpickle-2.0.0-py3-none-any.whl (25 kB)\n",
            "Requirement already satisfied: decorator in /usr/local/lib/python3.7/dist-packages (from tensorflow_probability==0.13.rc0) (4.4.2)\n",
            "Requirement already satisfied: numpy>=1.13.3 in /usr/local/lib/python3.7/dist-packages (from tensorflow_probability==0.13.rc0) (1.21.6)\n",
            "Requirement already satisfied: gast>=0.3.2 in /usr/local/lib/python3.7/dist-packages (from tensorflow_probability==0.13.rc0) (0.5.3)\n",
            "Requirement already satisfied: dm-tree in /usr/local/lib/python3.7/dist-packages (from tensorflow_probability==0.13.rc0) (0.1.7)\n",
            "Installing collected packages: cloudpickle, tensorflow-probability\n",
            "  Attempting uninstall: cloudpickle\n",
            "    Found existing installation: cloudpickle 1.1.1\n",
            "    Uninstalling cloudpickle-1.1.1:\n",
            "      Successfully uninstalled cloudpickle-1.1.1\n",
            "  Attempting uninstall: tensorflow-probability\n",
            "    Found existing installation: tensorflow-probability 0.8.0rc0\n",
            "    Uninstalling tensorflow-probability-0.8.0rc0:\n",
            "      Successfully uninstalled tensorflow-probability-0.8.0rc0\n",
            "\u001b[31mERROR: pip's dependency resolver does not currently take into account all the packages that are installed. This behaviour is the source of the following dependency conflicts.\n",
            "gym 0.17.3 requires cloudpickle<1.7.0,>=1.2.0, but you have cloudpickle 2.0.0 which is incompatible.\u001b[0m\n",
            "Successfully installed cloudpickle-2.0.0 tensorflow-probability-0.13.0rc0\n"
          ]
        },
        {
          "output_type": "display_data",
          "data": {
            "application/vnd.colab-display-data+json": {
              "pip_warning": {
                "packages": [
                  "cloudpickle"
                ]
              }
            }
          },
          "metadata": {}
        }
      ],
      "source": [
        "!pip install tensorflow_probability==0.13.rc0 --user --upgrade\n"
      ]
    },
    {
      "cell_type": "code",
      "execution_count": 1,
      "id": "ed1012e2",
      "metadata": {
        "id": "ed1012e2"
      },
      "outputs": [],
      "source": [
        "import tensorflow_probability as tfp  # We are using a different module from tensorflow this time which deals with probabilities\n",
        "import tensorflow as tf"
      ]
    },
    {
      "cell_type": "markdown",
      "id": "d2398f3a",
      "metadata": {
        "id": "d2398f3a"
      },
      "source": [
        "# Weather Model"
      ]
    },
    {
      "cell_type": "markdown",
      "id": "31fcd8f9",
      "metadata": {
        "id": "31fcd8f9"
      },
      "source": [
        "\n",
        "Taken direclty from the TensorFlow documentation (https://www.tensorflow.org/probability/api_docs/python/tfp/distributions/HiddenMarkovModel). \n",
        "\n",
        "We will model a simple weather system and try to predict the temperature on each day given the following information.\n",
        "1. Cold days are encoded by a 0 and hot days are encoded by a 1.\n",
        "2. The first day in our sequence has an 80% chance of being cold.\n",
        "3. A cold day has a 30% chance of being followed by a hot day.\n",
        "4. A hot day has a 20% chance of being followed by a cold day.\n",
        "5. On each day the temperature is\n",
        " normally distributed with mean and standard deviation 0 and 5 on\n",
        " a cold day and mean and standard deviation 15 and 10 on a hot day.\n",
        "\n",
        "If you're unfamiliar with **standard deviation** it can be put simply as the range of expected values. \n",
        "\n",
        "In this example, on a hot day the average temperature is 15 and ranges from 5 to 25. \n",
        "Note: i get the range by (subtracting 10 , Adding 10)\n",
        "\n",
        "To model this in TensorFlow we will do the following.\n"
      ]
    },
    {
      "cell_type": "code",
      "execution_count": 2,
      "id": "59816161",
      "metadata": {
        "id": "59816161"
      },
      "outputs": [],
      "source": [
        "tfd = tfp.distributions  # making a shortcut for later on\n",
        "initial_distribution = tfd.Categorical(probs=[0.2, 0.8])  # Refer to point 2 above \n",
        "#it refers to 1st day [hot %,cold%]\n",
        "transition_distribution = tfd.Categorical(probs=[[0.7, 0.3],\n",
        "                                                 [0.2, 0.8]])  # refer to points 3 and 4 above\n",
        "#1st list refers to day after cold[cold%,hot%] , 2nd list to after hot[cold%,hot%]\n",
        "observation_distribution = tfd.Normal(loc=[0., 15.], scale=[5., 10.])  # refer to point 5 above\n",
        "\n",
        "# the loc argument represents the mean and the scale is the standard devitation"
      ]
    },
    {
      "cell_type": "markdown",
      "id": "7cf8507d",
      "metadata": {
        "id": "7cf8507d"
      },
      "source": [
        "We've now created distribution variables to model our system and it's time to create the hidden markov model."
      ]
    },
    {
      "cell_type": "code",
      "execution_count": 3,
      "id": "50ca9bde",
      "metadata": {
        "id": "50ca9bde"
      },
      "outputs": [],
      "source": [
        "model = tfd.HiddenMarkovModel(\n",
        "    initial_distribution=initial_distribution,\n",
        "    transition_distribution=transition_distribution,\n",
        "    observation_distribution=observation_distribution,\n",
        "    num_steps=7)"
      ]
    },
    {
      "cell_type": "markdown",
      "id": "180e6d7a",
      "metadata": {
        "id": "180e6d7a"
      },
      "source": [
        "The **number of steps** represents the number of days that we would like to predict information for. In this case we've chosen 7, an entire week.\n",
        "\n",
        "To get the expected temperatures on each day we can do the following."
      ]
    },
    {
      "cell_type": "code",
      "execution_count": 4,
      "id": "89937725",
      "metadata": {
        "colab": {
          "base_uri": "https://localhost:8080/"
        },
        "id": "89937725",
        "outputId": "dc87f1f3-c85d-4726-960e-c1d041a3f65a"
      },
      "outputs": [
        {
          "output_type": "stream",
          "name": "stdout",
          "text": [
            "[11.999999 10.500001  9.75      9.375     9.1875    9.09375   9.046875]\n"
          ]
        }
      ],
      "source": [
        "mean = model.mean()\n",
        "\n",
        "# due to the way TensorFlow works on a lower level we need to evaluate part of the graph\n",
        "# from within a session to see the value of this tensor\n",
        "\n",
        "# in the new version of tensorflow we need to use tf.compat.v1.Session() rather than just tf.Session()\n",
        "with tf.compat.v1.Session() as sess:  \n",
        "  print(mean.numpy())"
      ]
    },
    {
      "cell_type": "code",
      "execution_count": null,
      "id": "9f0e850e",
      "metadata": {
        "scrolled": true,
        "id": "9f0e850e"
      },
      "outputs": [],
      "source": [
        ""
      ]
    }
  ],
  "metadata": {
    "kernelspec": {
      "display_name": "Python 3 (ipykernel)",
      "language": "python",
      "name": "python3"
    },
    "language_info": {
      "codemirror_mode": {
        "name": "ipython",
        "version": 3
      },
      "file_extension": ".py",
      "mimetype": "text/x-python",
      "name": "python",
      "nbconvert_exporter": "python",
      "pygments_lexer": "ipython3",
      "version": "3.9.12"
    },
    "colab": {
      "name": "BasicML.ipynb",
      "provenance": [],
      "collapsed_sections": [],
      "toc_visible": true,
      "include_colab_link": true
    }
  },
  "nbformat": 4,
  "nbformat_minor": 5
}